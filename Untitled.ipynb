{
 "cells": [
  {
   "cell_type": "code",
   "execution_count": 68,
   "metadata": {},
   "outputs": [
    {
     "data": {
      "text/plain": [
       "4302.43387917742"
      ]
     },
     "execution_count": 68,
     "metadata": {},
     "output_type": "execute_result"
    }
   ],
   "source": [
    "import scipy.stats\n",
    "import scipy.optimize\n",
    "\n",
    "one_a_a = scipy.optimize.newton(lambda a: scipy.stats.norm.cdf(a,600,2)-0.005, 600)\n",
    "# 594.8483413929023\n",
    "one_a_b = scipy.optimize.newton(lambda b: scipy.stats.norm.cdf(b,600,2)-0.995, 600)\n",
    "# 605.1516586070977\n",
    "one_b = scipy.optimize.newton(lambda n: (-3/(30/n**0.5))+scipy.stats.norm.ppf(0.995,0,1), 225)\n",
    "# 663.4896601021211\n",
    "one_c_a = scipy.optimize.newton(lambda e: scipy.stats.norm.cdf(600-e,600,2*(1-225/2000)**0.5)-0.005, 0)\n",
    "# 4.853234275575936\n",
    "one_c_b = scipy.optimize.newton(lambda n: (3/(30*(1-n/2000)**0.5/n**0.5)-scipy.stats.norm.ppf(0.995,0,1)), 225)\n",
    "# 498.2108021975067\n",
    "two_a = scipy.optimize.newton(lambda e: scipy.stats.norm.cdf(0.04-e,0.04,(0.68*0.32/100+0.64*0.36/50)**0.5)-0.025, 0)\n",
    "# 0.16143251419582794\n",
    "two_b = scipy.optimize.newton(lambda n: 0.02/((0.448/n)**0.5)-scipy.stats.norm.ppf(0.975,0,1), 50)\n",
    "# 4302.43387917742\n",
    "three_a = (((1.4**2)/12+(1.9**2)/13)**0.5)*scipy.optimize.newton(lambda t: scipy.stats.t.cdf(t,(((1.4**2)/12+(1.9**2)/13)**2)/((1/11)*((1.4**2)/(12))**2+(1/12)*((1.9**2)/(13))**2))-0.99,0)\n",
    "# 1.6659228038350151"
   ]
  }
 ],
 "metadata": {
  "kernelspec": {
   "display_name": "Python 3",
   "language": "python",
   "name": "python3"
  },
  "language_info": {
   "codemirror_mode": {
    "name": "ipython",
    "version": 3
   },
   "file_extension": ".py",
   "mimetype": "text/x-python",
   "name": "python",
   "nbconvert_exporter": "python",
   "pygments_lexer": "ipython3",
   "version": "3.8.5"
  }
 },
 "nbformat": 4,
 "nbformat_minor": 4
}
