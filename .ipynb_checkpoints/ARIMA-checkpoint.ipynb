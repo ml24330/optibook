{
 "cells": [
  {
   "cell_type": "code",
   "execution_count": 40,
   "metadata": {
    "scrolled": true
   },
   "outputs": [
    {
     "data": {
      "image/png": "[encoded data removed]",
      "text/plain": [
       "<Figure size 432x288 with 1 Axes>"
      ]
     },
     "metadata": {
      "needs_background": "light"
     },
     "output_type": "display_data"
    }
   ],
   "source": [
    "import pandas as pd\n",
    "import matplotlib.pyplot as plt\n",
    "import statsmodels.api as sm\n",
    "\n",
    "df = pd.read_csv('store.csv')\n",
    "df.columns = [\"Type\", \"Instrument\",\"Price\",\"Buyer\",\"Seller\",\"Timestamp\",\"Trade_nr\",\"Volume\",\"NAN\"]\n",
    "df = df.drop(labels=\"NAN\",axis=1)\n",
    "df[\"Timestamp\"] = pd.to_datetime(df[\"Timestamp\"])\n",
    "\n",
    "plt.plot(df[df[\"Instrument\"] == \"PHILIPS_A\"][\"Timestamp\"],df[df[\"Instrument\"] == \"PHILIPS_A\"][\"Price\"], label=\"PHILIPS_A\")\n",
    "plt.plot(df[df[\"Instrument\"] == \"PHILIPS_B\"][\"Timestamp\"],df[df[\"Instrument\"] == \"PHILIPS_B\"][\"Price\"], label=\"PHILIPS_B\")\n",
    "plt.legend(fontsize=10)\n",
    "plt.show()"
   ]
  },
  {
   "cell_type": "code",
   "execution_count": 43,
   "metadata": {},
   "outputs": [],
   "source": [
    "a_price = 0\n",
    "b_price = 0\n",
    "price_df = pd.DataFrame(columns=[\"Time\", \"Price_A\", \"Price_B\"])\n",
    "\n",
    "for i, r in enumerate(df.iterrows()):\n",
    "    time = r[1][\"Timestamp\"]\n",
    "    a_price = a_price if r[1][\"Instrument\"] != \"PHILIPS_A\" else r[1][\"Price\"]\n",
    "    b_price = b_price if r[1][\"Instrument\"] != \"PHILIPS_B\" else r[1][\"Price\"]\n",
    "    if a_price != 0 and b_price != 0:\n",
    "        price_df.loc[i+1] = [time, a_price, b_price]\n",
    "    \n",
    "price_df[\"Difference\"] = price_df[\"Price_A\"] - price_df[\"Price_B\"]"
   ]
  },
  {
   "cell_type": "code",
   "execution_count": null,
   "metadata": {},
   "outputs": [
    {
     "name": "stderr",
     "output_type": "stream",
     "text": [
      "/Users/liumukun/anaconda3/lib/python3.8/site-packages/statsmodels/tsa/statespace/sarimax.py:965: UserWarning: Non-stationary starting autoregressive parameters found. Using zeros as starting parameters.\n",
      "  warn('Non-stationary starting autoregressive parameters'\n",
      "/Users/liumukun/anaconda3/lib/python3.8/site-packages/statsmodels/tsa/statespace/sarimax.py:977: UserWarning: Non-invertible starting MA parameters found. Using zeros as starting parameters.\n",
      "  warn('Non-invertible starting MA parameters found.'\n",
      "/Users/liumukun/anaconda3/lib/python3.8/site-packages/statsmodels/base/model.py:566: ConvergenceWarning: Maximum Likelihood optimization failed to converge. Check mle_retvals\n",
      "  warnings.warn(\"Maximum Likelihood optimization failed to \"\n",
      "/Users/liumukun/anaconda3/lib/python3.8/site-packages/statsmodels/base/model.py:566: ConvergenceWarning: Maximum Likelihood optimization failed to converge. Check mle_retvals\n",
      "  warnings.warn(\"Maximum Likelihood optimization failed to \"\n",
      "/Users/liumukun/anaconda3/lib/python3.8/site-packages/statsmodels/base/model.py:566: ConvergenceWarning: Maximum Likelihood optimization failed to converge. Check mle_retvals\n",
      "  warnings.warn(\"Maximum Likelihood optimization failed to \"\n",
      "/Users/liumukun/anaconda3/lib/python3.8/site-packages/statsmodels/base/model.py:566: ConvergenceWarning: Maximum Likelihood optimization failed to converge. Check mle_retvals\n",
      "  warnings.warn(\"Maximum Likelihood optimization failed to \"\n",
      "/Users/liumukun/anaconda3/lib/python3.8/site-packages/statsmodels/base/model.py:566: ConvergenceWarning: Maximum Likelihood optimization failed to converge. Check mle_retvals\n",
      "  warnings.warn(\"Maximum Likelihood optimization failed to \"\n",
      "/Users/liumukun/anaconda3/lib/python3.8/site-packages/statsmodels/base/model.py:566: ConvergenceWarning: Maximum Likelihood optimization failed to converge. Check mle_retvals\n",
      "  warnings.warn(\"Maximum Likelihood optimization failed to \"\n",
      "/Users/liumukun/anaconda3/lib/python3.8/site-packages/statsmodels/base/model.py:566: ConvergenceWarning: Maximum Likelihood optimization failed to converge. Check mle_retvals\n",
      "  warnings.warn(\"Maximum Likelihood optimization failed to \"\n"
     ]
    }
   ],
   "source": [
    "import math\n",
    "from statsmodels.tsa.arima.model import ARIMA\n",
    "from statsmodels.graphics.tsaplots import plot_acf\n",
    "from statsmodels.graphics.tsaplots import plot_pacf\n",
    "\n",
    "diff = price_df[\"Difference\"]\n",
    "diff.reset_index(inplace=True, drop=True)\n",
    "\n",
    "def rolling_forecast(df, test_size, order):\n",
    "    forecast = list()\n",
    "\n",
    "    for i in range(0,test_size):\n",
    "        new_size = test_size-i\n",
    "        train, test = df[:len(df)-new_size], df[len(df)-new_size:]\n",
    "        model = ARIMA(train, order=order).fit()\n",
    "        forecast.append(model.forecast().iloc[-1])\n",
    "\n",
    "    forecast = df[:len(df)-test_size].append(pd.Series(forecast))\n",
    "    forecast = forecast.reset_index()[0]\n",
    "    \n",
    "    return forecast\n",
    "\n",
    "forecast = rolling_forecast(diff, 300, (1,0,1))\n",
    "plt.plot(forecast, label=\"Forecast\", linewidth=2)\n",
    "plt.plot(diff, label=\"Actual\")\n",
    "plt.legend()"
   ]
  },
  {
   "cell_type": "code",
   "execution_count": 68,
   "metadata": {},
   "outputs": [
    {
     "data": {
      "text/plain": [
       "27.64958322376886"
      ]
     },
     "execution_count": 68,
     "metadata": {},
     "output_type": "execute_result"
    }
   ],
   "source": [
    "err = (pd.Series(diff)-pd.Series(forecast)).iloc[diff.shape[0]-300:]\n",
    "sum(err**2)"
   ]
  },
  {
   "cell_type": "code",
   "execution_count": 39,
   "metadata": {},
   "outputs": [
    {
     "data": {
      "text/html": [
       "<div>\n",
       "<style scoped>\n",
       "    .dataframe tbody tr th:only-of-type {\n",
       "        vertical-align: middle;\n",
       "    }\n",
       "\n",
       "    .dataframe tbody tr th {\n",
       "        vertical-align: top;\n",
       "    }\n",
       "\n",
       "    .dataframe thead th {\n",
       "        text-align: right;\n",
       "    }\n",
       "</style>\n",
       "<table border=\"1\" class=\"dataframe\">\n",
       "  <thead>\n",
       "    <tr style=\"text-align: right;\">\n",
       "      <th></th>\n",
       "      <th>Time</th>\n",
       "      <th>Price_A</th>\n",
       "      <th>Price_B</th>\n",
       "      <th>Difference</th>\n",
       "    </tr>\n",
       "  </thead>\n",
       "  <tbody>\n",
       "    <tr>\n",
       "      <th>5</th>\n",
       "      <td>2021-02-20 10:03:48</td>\n",
       "      <td>82.3</td>\n",
       "      <td>82.5</td>\n",
       "      <td>-0.2</td>\n",
       "    </tr>\n",
       "    <tr>\n",
       "      <th>6</th>\n",
       "      <td>2021-02-20 10:03:57</td>\n",
       "      <td>82.3</td>\n",
       "      <td>82.4</td>\n",
       "      <td>-0.1</td>\n",
       "    </tr>\n",
       "    <tr>\n",
       "      <th>7</th>\n",
       "      <td>2021-02-20 10:04:02</td>\n",
       "      <td>82.4</td>\n",
       "      <td>82.4</td>\n",
       "      <td>0.0</td>\n",
       "    </tr>\n",
       "    <tr>\n",
       "      <th>8</th>\n",
       "      <td>2021-02-20 10:04:03</td>\n",
       "      <td>82.4</td>\n",
       "      <td>82.4</td>\n",
       "      <td>0.0</td>\n",
       "    </tr>\n",
       "    <tr>\n",
       "      <th>9</th>\n",
       "      <td>2021-02-20 10:04:07</td>\n",
       "      <td>82.4</td>\n",
       "      <td>82.6</td>\n",
       "      <td>-0.2</td>\n",
       "    </tr>\n",
       "    <tr>\n",
       "      <th>...</th>\n",
       "      <td>...</td>\n",
       "      <td>...</td>\n",
       "      <td>...</td>\n",
       "      <td>...</td>\n",
       "    </tr>\n",
       "    <tr>\n",
       "      <th>685</th>\n",
       "      <td>2021-02-20 10:53:43</td>\n",
       "      <td>92.7</td>\n",
       "      <td>92.1</td>\n",
       "      <td>0.6</td>\n",
       "    </tr>\n",
       "    <tr>\n",
       "      <th>686</th>\n",
       "      <td>2021-02-20 10:53:46</td>\n",
       "      <td>92.7</td>\n",
       "      <td>92.2</td>\n",
       "      <td>0.5</td>\n",
       "    </tr>\n",
       "    <tr>\n",
       "      <th>687</th>\n",
       "      <td>2021-02-20 10:53:50</td>\n",
       "      <td>92.7</td>\n",
       "      <td>92.2</td>\n",
       "      <td>0.5</td>\n",
       "    </tr>\n",
       "    <tr>\n",
       "      <th>688</th>\n",
       "      <td>2021-02-20 10:54:01</td>\n",
       "      <td>92.7</td>\n",
       "      <td>92.2</td>\n",
       "      <td>0.5</td>\n",
       "    </tr>\n",
       "    <tr>\n",
       "      <th>689</th>\n",
       "      <td>2021-02-20 10:54:12</td>\n",
       "      <td>92.7</td>\n",
       "      <td>92.2</td>\n",
       "      <td>0.5</td>\n",
       "    </tr>\n",
       "  </tbody>\n",
       "</table>\n",
       "<p>685 rows × 4 columns</p>\n",
       "</div>"
      ],
      "text/plain": [
       "                   Time  Price_A  Price_B  Difference\n",
       "5   2021-02-20 10:03:48     82.3     82.5        -0.2\n",
       "6   2021-02-20 10:03:57     82.3     82.4        -0.1\n",
       "7   2021-02-20 10:04:02     82.4     82.4         0.0\n",
       "8   2021-02-20 10:04:03     82.4     82.4         0.0\n",
       "9   2021-02-20 10:04:07     82.4     82.6        -0.2\n",
       "..                  ...      ...      ...         ...\n",
       "685 2021-02-20 10:53:43     92.7     92.1         0.6\n",
       "686 2021-02-20 10:53:46     92.7     92.2         0.5\n",
       "687 2021-02-20 10:53:50     92.7     92.2         0.5\n",
       "688 2021-02-20 10:54:01     92.7     92.2         0.5\n",
       "689 2021-02-20 10:54:12     92.7     92.2         0.5\n",
       "\n",
       "[685 rows x 4 columns]"
      ]
     },
     "execution_count": 39,
     "metadata": {},
     "output_type": "execute_result"
    }
   ],
   "source": []
  }
 ],
 "metadata": {
  "kernelspec": {
   "display_name": "Python 3",
   "language": "python",
   "name": "python3"
  },
  "language_info": {
   "codemirror_mode": {
    "name": "ipython",
    "version": 3
   },
   "file_extension": ".py",
   "mimetype": "text/x-python",
   "name": "python",
   "nbconvert_exporter": "python",
   "pygments_lexer": "ipython3",
   "version": "3.8.5"
  }
 },
 "nbformat": 4,
 "nbformat_minor": 4
}
